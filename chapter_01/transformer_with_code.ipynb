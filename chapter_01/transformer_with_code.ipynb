{
  "nbformat": 4,
  "nbformat_minor": 0,
  "metadata": {
    "colab": {
      "provenance": []
    },
    "kernelspec": {
      "name": "python3",
      "display_name": "Python 3"
    },
    "language_info": {
      "name": "python"
    }
  },
  "cells": [
    {
      "cell_type": "markdown",
      "source": [
        "# 1. Text to Embedding"
      ],
      "metadata": {
        "id": "rOVX8k8LXXcv"
      }
    },
    {
      "cell_type": "markdown",
      "source": [
        "## 1-1. Tokenization"
      ],
      "metadata": {
        "id": "n5A8Po9cNc5C"
      }
    },
    {
      "cell_type": "code",
      "execution_count": 6,
      "metadata": {
        "colab": {
          "base_uri": "https://localhost:8080/"
        },
        "id": "k3JAA5sqKjeZ",
        "outputId": "0e208ba7-7383-4c18-8b88-4c1d337a5ed9"
      },
      "outputs": [
        {
          "output_type": "stream",
          "name": "stdout",
          "text": [
            "input_text_list:  ['나는', '최근', '필리핀', '여행을', '다녀왔다.']\n",
            "str2idx:  {'나는': 0, '최근': 1, '필리핀': 2, '여행을': 3, '다녀왔다.': 4}\n",
            "idx2str:  {0: '나는', 1: '최근', 2: '필리핀', 3: '여행을', 4: '다녀왔다.'}\n",
            "input_ids:  [0, 1, 2, 3, 4]\n"
          ]
        }
      ],
      "source": [
        "# 띄어쓰기 단위로 분리\n",
        "input_text = \"나는 최근 필리핀 여행을 다녀왔다.\"\n",
        "input_text_list = input_text.split()\n",
        "print(\"input_text_list: \", input_text_list)\n",
        "\n",
        "# 토큰 -> 아이디 딕셔너리와 아이디 -> 토큰 딕셔너리 만들기\n",
        "str2idx = {word: idx for idx, word in enumerate(input_text_list)}\n",
        "idx2str = {idx: word for idx, word in enumerate(input_text_list)}\n",
        "print(\"str2idx: \", str2idx)\n",
        "print(\"idx2str: \", idx2str)\n",
        "\n",
        "# 토큰을 토큰 아이디로 변환\n",
        "input_ids = [str2idx[word] for word in input_text_list]\n",
        "print(\"input_ids: \", input_ids)"
      ]
    },
    {
      "cell_type": "markdown",
      "source": [
        "## 1-2. Token embedding conversion"
      ],
      "metadata": {
        "id": "uA_sxwe0OzhR"
      }
    },
    {
      "cell_type": "markdown",
      "source": [
        "- 토큰화에서 부여한 토큰 아이디는 하나의 숫자일 뿐이므로 토큰의 의미를 담을 수 없다.\n",
        "- 의미를 담기 위해서는 최소 2개 이상의 숫자 집합인 벡터야야 한다.\n",
        "- 데이터의 의미를 담아 숫자 집합으로 변환하는 것을 임베딩(embedding)이라 한다."
      ],
      "metadata": {
        "id": "b78i5XQdPal6"
      }
    },
    {
      "cell_type": "code",
      "source": [
        "import torch\n",
        "import torch.nn as nn\n",
        "\n",
        "embedding_dim = 16\n",
        "embed_layer = nn.Embedding(len(str2idx), embedding_dim)\n",
        "\n",
        "input_embeddings = embed_layer(torch.tensor(input_ids)) # (5, 16)\n",
        "input_embeddings = input_embeddings.unsqueeze(0) # (1, 5, 16)\n",
        "input_embeddings.shape\n",
        "\n",
        "# 출력 결과\n",
        "# torch.Size([1, 5, 16])"
      ],
      "metadata": {
        "colab": {
          "base_uri": "https://localhost:8080/"
        },
        "id": "el0PZOOkOBuJ",
        "outputId": "c1fcc572-ea2d-48c2-b854-76a7454c6989"
      },
      "execution_count": 7,
      "outputs": [
        {
          "output_type": "execute_result",
          "data": {
            "text/plain": [
              "torch.Size([1, 5, 16])"
            ]
          },
          "metadata": {},
          "execution_count": 7
        }
      ]
    },
    {
      "cell_type": "markdown",
      "source": [
        "- 지금의 `embed_layer`는 그저 입력 토큰 아이디를 16차원의 임의의 숫자 집합으로 바꿔줄 뿐이다.\n",
        "    - 의미를 담기 위해서는 딥러닝 모델이 학습 데이터로 훈련되어야 한다."
      ],
      "metadata": {
        "id": "EpkAqV64Pn3l"
      }
    },
    {
      "cell_type": "markdown",
      "source": [
        "## 1-3. Absolute Position Encoding"
      ],
      "metadata": {
        "id": "7LxlRybfRiFJ"
      }
    },
    {
      "cell_type": "markdown",
      "source": [
        "- 간단하게 구현할 수 있지만, 토큰과 토큰 사이의 상대적인 위치 정보를 활용하지 못하고, 학습 데이터에서 보기 어려웠던 긴 텍스트를 추론하는 경우에는 성능이 떨어진다."
      ],
      "metadata": {
        "id": "b9tLrxYwRnv5"
      }
    },
    {
      "cell_type": "code",
      "source": [
        "embedding_dim = 16\n",
        "max_position = 12\n",
        "embed_layer = nn.Embedding(len(str2idx), embedding_dim)\n",
        "\n",
        "position_embed_layer = nn.Embedding(max_position, embedding_dim)\n",
        "position_ids = torch.arange(len(input_ids), dtype=torch.long).unsqueeze(0)\n",
        "position_encodings = position_embed_layer(position_ids)\n",
        "\n",
        "token_embeddings = embed_layer(torch.tensor(input_ids)) # (5, 16)\n",
        "token_embeddings = token_embeddings.unsqueeze(0) # (1, 5, 16)\n",
        "\n",
        "input_embeddings = token_embeddings + position_encodings\n",
        "input_embeddings.shape # torch.Size([1, 5, 16])"
      ],
      "metadata": {
        "colab": {
          "base_uri": "https://localhost:8080/"
        },
        "id": "oxIsDTG1PQZd",
        "outputId": "f98102c7-eea3-4d8a-c8f6-08f8d19be4fc"
      },
      "execution_count": 8,
      "outputs": [
        {
          "output_type": "execute_result",
          "data": {
            "text/plain": [
              "torch.Size([1, 5, 16])"
            ]
          },
          "metadata": {},
          "execution_count": 8
        }
      ]
    },
    {
      "cell_type": "markdown",
      "source": [
        "# 2. Attention"
      ],
      "metadata": {
        "id": "P5N042TQXl9n"
      }
    },
    {
      "cell_type": "markdown",
      "source": [
        "## 2-1. `nn.Linear` layer that creates query, key, and value vectors"
      ],
      "metadata": {
        "id": "pDHKsy1AaxE1"
      }
    },
    {
      "cell_type": "code",
      "source": [
        "head_dim = 16\n",
        "\n",
        "# 쿼리, 키, 값을 계산하기 위한 변환\n",
        "weight_q = nn.Linear(embedding_dim, head_dim)\n",
        "weight_k = nn.Linear(embedding_dim, head_dim)\n",
        "weight_v = nn.Linear(embedding_dim, head_dim)\n",
        "\n",
        "# 변환 수행\n",
        "querys = weight_q(input_embeddings) # (1, 5, 16)\n",
        "keys = weight_k(input_embeddings) # (1, 5, 16)\n",
        "values = weight_v(input_embeddings) # (1, 5, 16)"
      ],
      "metadata": {
        "id": "yy9dBBlnTWAl"
      },
      "execution_count": 9,
      "outputs": []
    },
    {
      "cell_type": "markdown",
      "source": [
        "## 2-2. Attention in scale dot product method"
      ],
      "metadata": {
        "id": "kJpeec6-cKPg"
      }
    },
    {
      "cell_type": "code",
      "source": [
        "from math import sqrt\n",
        "import torch.nn.functional as F\n",
        "\n",
        "def compute_attention(querys, keys, values, is_causal=False):\n",
        "    dim_k = querys.size(-1) # 16\n",
        "    scores = querys @ keys.transpose(-2, -1) / sqrt(dim_k)\n",
        "\n",
        "    if is_causal:\n",
        "        query_length = querys.size(2)\n",
        "        key_length = keys.size(2)\n",
        "        temp_mask = torch.ones(query_length, key_length,\n",
        "                               dtype=torch.bool).tril(diagonal=0)\n",
        "        scores = scores.masked_fill(temp_mask == False, float(\"-inf\"))\n",
        "\n",
        "    weights = F.softmax(scores, dim=-1)\n",
        "    return weights @ values"
      ],
      "metadata": {
        "id": "Vv45a0N3bEqP"
      },
      "execution_count": 16,
      "outputs": []
    },
    {
      "cell_type": "code",
      "source": [
        "print(\"원본 입력 형태: \", input_embeddings.shape)\n",
        "\n",
        "after_attention_embeddings = compute_attention(querys, keys, values)\n",
        "\n",
        "print(\"어텐션 적용 후 형태: \", after_attention_embeddings.shape)"
      ],
      "metadata": {
        "colab": {
          "base_uri": "https://localhost:8080/"
        },
        "id": "_pf3GPtxcogN",
        "outputId": "ae05d6cc-9001-4c82-bf11-f4b097a95a2f"
      },
      "execution_count": 13,
      "outputs": [
        {
          "output_type": "stream",
          "name": "stdout",
          "text": [
            "원본 입력 형태:  torch.Size([1, 5, 16])\n",
            "어텐션 적용 후 형태:  torch.Size([1, 5, 16])\n"
          ]
        }
      ]
    },
    {
      "cell_type": "markdown",
      "source": [
        "## 2-3. Class AttentionHead"
      ],
      "metadata": {
        "id": "sl2L_u64eENJ"
      }
    },
    {
      "cell_type": "code",
      "source": [
        "class AttentionHead(nn.Module):\n",
        "    def __init__(self, token_embed_dim, head_dim, is_causal=False):\n",
        "        super().__init__()\n",
        "        self.is_causal = is_causal\n",
        "        self.weight_q = nn.Linear(token_embed_dim, head_dim)\n",
        "        self.weight_k = nn.Linear(token_embed_dim, head_dim)\n",
        "        self.weight_v = nn.Linear(token_embed_dim, head_dim)\n",
        "\n",
        "    def forward(self, querys, keys, values):\n",
        "        outputs = compute_attention(\n",
        "            self.weight_q(querys),\n",
        "            self.weight_k(keys),\n",
        "            self.weight_v(values),\n",
        "            is_causal = self.is_causal\n",
        "        )\n",
        "        return outputs"
      ],
      "metadata": {
        "id": "PVQIAkxQdiXL"
      },
      "execution_count": 17,
      "outputs": []
    },
    {
      "cell_type": "code",
      "source": [
        "attention_head = AttentionHead(embedding_dim, embedding_dim)\n",
        "after_attention_embeddings = attention_head(input_embeddings, input_embeddings, input_embeddings)"
      ],
      "metadata": {
        "id": "GxkR2OZUfBAP"
      },
      "execution_count": 18,
      "outputs": []
    },
    {
      "cell_type": "markdown",
      "source": [
        "## 2-4. Multihead Attention"
      ],
      "metadata": {
        "id": "QBlRS9PGfpgY"
      }
    },
    {
      "cell_type": "code",
      "source": [
        "class MultiheadAttention(nn.Module):\n",
        "    def __init__(self, token_embed_dim, d_model, n_head, is_causal=False):\n",
        "        super().__init__()\n",
        "        self.n_head = n_head\n",
        "        self.is_causal = is_causal\n",
        "        self.weight_q = nn.Linear(token_embed_dim, d_model)\n",
        "        self.weight_k = nn.Linear(token_embed_dim, d_model)\n",
        "        self.weight_v = nn.Linear(token_embed_dim, d_model)\n",
        "        self.concat_linear = nn.Linear(d_model, d_model)\n",
        "\n",
        "    def forward(self, querys, keys, values):\n",
        "        B, T, C = querys.size()\n",
        "        querys = self.weight_q(querys).view(B, T, self.n_head, C // self.n_head).transpose(1, 2)\n",
        "        keys = self.weight_k(keys).view(B, T, self.n_head, C // self.n_head).transpose(1, 2)\n",
        "        values = self.weight_v(values).view(B, T, self.n_head, C // self.n_head).transpose(1, 2)\n",
        "\n",
        "        attention = compute_attention(querys, keys, values, self.is_causal)\n",
        "        output = attention.transpose(1, 2).contiguous().view(B, T, C)\n",
        "        output - self.concat_linear(output)\n",
        "        return output"
      ],
      "metadata": {
        "id": "LiI_VbVVfL_W"
      },
      "execution_count": 21,
      "outputs": []
    },
    {
      "cell_type": "code",
      "source": [
        "n_head = 4\n",
        "mh_attention = MultiheadAttention(embedding_dim, embedding_dim, n_head)\n",
        "after_attention_embeddings = mh_attention(input_embeddings, input_embeddings, input_embeddings)\n",
        "after_attention_embeddings.shape"
      ],
      "metadata": {
        "colab": {
          "base_uri": "https://localhost:8080/"
        },
        "id": "SpU3Sg_tgU58",
        "outputId": "04c57a32-3b86-4825-994e-1e6cc78bcb7b"
      },
      "execution_count": 22,
      "outputs": [
        {
          "output_type": "execute_result",
          "data": {
            "text/plain": [
              "torch.Size([1, 5, 16])"
            ]
          },
          "metadata": {},
          "execution_count": 22
        }
      ]
    },
    {
      "cell_type": "markdown",
      "source": [
        "# 3. Normalization & Feed forward"
      ],
      "metadata": {
        "id": "Vw7ncn6qt2-N"
      }
    },
    {
      "cell_type": "markdown",
      "source": [
        "## 3-1. Layer Normalization"
      ],
      "metadata": {
        "id": "eQiQeN-IvhQV"
      }
    },
    {
      "cell_type": "code",
      "source": [
        "norm = nn.LayerNorm(embedding_dim)\n",
        "norm_x = norm(input_embeddings)\n",
        "norm_x.shape # torch.Size([1, 5, 16])\n",
        "\n",
        "norm_x.mean(dim=-1).data, norm_x.std(dim=-1).data"
      ],
      "metadata": {
        "colab": {
          "base_uri": "https://localhost:8080/"
        },
        "id": "vgh2tRPnhT4P",
        "outputId": "140b5d9c-e5da-4337-a9b4-fca5a08c9e29"
      },
      "execution_count": 26,
      "outputs": [
        {
          "output_type": "execute_result",
          "data": {
            "text/plain": [
              "(tensor([[-3.3528e-08,  3.7253e-09,  2.9802e-08,  1.8626e-08, -2.2352e-08]]),\n",
              " tensor([[1.0328, 1.0328, 1.0328, 1.0328, 1.0328]]))"
            ]
          },
          "metadata": {},
          "execution_count": 26
        }
      ]
    },
    {
      "cell_type": "markdown",
      "source": [
        "## 3-2. Feed forward"
      ],
      "metadata": {
        "id": "qCjPtjAPwUQz"
      }
    },
    {
      "cell_type": "code",
      "source": [
        "class PreLayerNormFeedForward(nn.Module):\n",
        "    def __init__(self, d_model, dim_feedforward, dropout):\n",
        "        super().__init__()\n",
        "        self.linear1 = nn.Linear(d_model, dim_feedforward)\n",
        "        self.linear2 = nn.Linear(dim_feedforward, d_model)\n",
        "        self.dropout1 = nn.Dropout(dropout)\n",
        "        self.dropout2 = nn.Dropout(dropout)\n",
        "        self.activation = nn.GELU()\n",
        "        self.norm = nn.LayerNorm(d_model)\n",
        "\n",
        "    def forward(self, src):\n",
        "        x = self.norm(src)\n",
        "        x = x + self.linear2(self.dropout1(self.activation(self.linear1(x))))\n",
        "        x = self.dropout(2)\n",
        "        return x"
      ],
      "metadata": {
        "id": "EbWLroi3vqw4"
      },
      "execution_count": 27,
      "outputs": []
    },
    {
      "cell_type": "markdown",
      "source": [
        "# 4. Encoder"
      ],
      "metadata": {
        "id": "Cv_b0V1oxju5"
      }
    },
    {
      "cell_type": "code",
      "source": [
        "class TransformerEncoderLayer(nn.Module):\n",
        "    def __init__(self, d_model, nhead, dim_feedforward, dropout):\n",
        "        super().__init__()\n",
        "        self.attn = MultiheadAttention(d_model, d_model, nhead)\n",
        "        self.norm1 = nn.LayerNorm(d_model)\n",
        "        self.dropout1 = nn.Dropout(dropout)\n",
        "        self.feed_forward = PreLayerNormFeedForward(d_model, dim_feedforward, dropout)\n",
        "\n",
        "    def forward(self, src):\n",
        "        norm_x = self.norm1(src)\n",
        "        attn_output = self.attn(norm_x, norm_x, norm_x)\n",
        "        x = src + self.dropout1(attn_output)\n",
        "\n",
        "        x = self.feed_forward(x)\n",
        "        return x"
      ],
      "metadata": {
        "id": "8E5AXRpzxg1e"
      },
      "execution_count": 28,
      "outputs": []
    },
    {
      "cell_type": "code",
      "source": [
        "import copy\n",
        "\n",
        "def get_clones(module, N):\n",
        "    return nn.ModuleList([copy.deepcopy(module) for i in range(N)])\n",
        "\n",
        "class TransformerEncoder(nn.Module):\n",
        "    def __init__(self, encoder_layer, num_layers):\n",
        "        super().__init__()\n",
        "        self.layers = get_clones(encoder_layer, num_layers)\n",
        "        self.num_layers= num_layers\n",
        "        self.norm = norm\n",
        "\n",
        "    def forward(self, src):\n",
        "        output = src\n",
        "        for mod in self.layers:\n",
        "            output = mod(output)\n",
        "        return output"
      ],
      "metadata": {
        "id": "x0wo8qAH1SSI"
      },
      "execution_count": 29,
      "outputs": []
    },
    {
      "cell_type": "markdown",
      "source": [
        "# 5. Decoder"
      ],
      "metadata": {
        "id": "aCKOSx9H4OpP"
      }
    },
    {
      "cell_type": "code",
      "source": [
        "class TransformerDecoderLayer(nn.Module):\n",
        "    def __init__(self, d_model, nhead, dim_feedforward=2048, dropout=0.1):\n",
        "        super().__init__()\n",
        "        self.self_attn = MultiheadAttention(d_model, d_model, nhead)\n",
        "        self.multihead_attn = MultiheadAttention(d_model, d_model, nhead)\n",
        "        self.feed_forward = PreLayerNormFeedForward(d_model, dim_feedforward, dropout)\n",
        "\n",
        "        self.norm1 = nn.LayerNorm(d_model)\n",
        "        self.norm2 = nn.LayerNorm(d_model)\n",
        "        self.dropout1 = nn.Dropout(dropout)\n",
        "        self.dropout2 = nn.Dropout(dropout)\n",
        "\n",
        "    def forward(self, tgt, encoder_output, is_causal=True):\n",
        "        x = self.norm1(tgt)\n",
        "        x = x + self.dropout1(self.self_attn(x, x, x))\n",
        "        x = self.norm2(x)\n",
        "        x = x + self.dropout2(self.multihead_attn(x, encoder_output, encoder_output, is_causal=is_causal))\n",
        "        x = self.feed_forward(x)\n",
        "        return x"
      ],
      "metadata": {
        "id": "KUH4VYWI4NTv"
      },
      "execution_count": 30,
      "outputs": []
    },
    {
      "cell_type": "code",
      "source": [
        "class TransformerDecoder(nn.Module):\n",
        "    def __init__(self, decoder_layer, num_layers):\n",
        "        super().__init__()\n",
        "        self.layers = get_clones(decoder_layer, num_layers)\n",
        "        self.num_layers = num_layers\n",
        "\n",
        "    def forward(self, tgt, src):\n",
        "        output = tgt\n",
        "        for mod in self.layers:\n",
        "            output = mod(tgt, src)\n",
        "        return output"
      ],
      "metadata": {
        "id": "N5Vxkxkr9TP6"
      },
      "execution_count": 31,
      "outputs": []
    },
    {
      "cell_type": "code",
      "source": [],
      "metadata": {
        "id": "brxraKja9sJc"
      },
      "execution_count": null,
      "outputs": []
    }
  ]
}